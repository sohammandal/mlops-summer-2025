{
 "cells": [
  {
   "cell_type": "code",
   "execution_count": 0,
   "metadata": {
    "application/vnd.databricks.v1+cell": {
     "cellMetadata": {
      "byteLimit": 2048000,
      "rowLimit": 10000
     },
     "inputWidgets": {},
     "nuid": "52b8dd02-4b07-4d64-b118-40afd2e1ab8c",
     "showTitle": false,
     "tableResultSettingsMap": {},
     "title": ""
    }
   },
   "outputs": [
    {
     "output_type": "stream",
     "name": "stdout",
     "output_type": "stream",
     "text": [
      "\u001B[43mNote: you may need to restart the kernel using %restart_python or dbutils.library.restartPython() to use updated packages.\u001B[0m\n"
     ]
    }
   ],
   "source": [
    "%pip install databricks-feature-engineering scikit-learn codecarbon --quiet\n",
    "dbutils.library.restartPython()"
   ]
  },
  {
   "cell_type": "code",
   "execution_count": 0,
   "metadata": {
    "application/vnd.databricks.v1+cell": {
     "cellMetadata": {
      "byteLimit": 2048000,
      "rowLimit": 10000
     },
     "inputWidgets": {},
     "nuid": "a6bf7e23-b26e-41a0-a335-1dbe487d1394",
     "showTitle": false,
     "tableResultSettingsMap": {},
     "title": ""
    }
   },
   "outputs": [
    {
     "output_type": "display_data",
     "data": {
      "text/html": [
       "<style scoped>\n",
       "  .table-result-container {\n",
       "    max-height: 300px;\n",
       "    overflow: auto;\n",
       "  }\n",
       "  table, th, td {\n",
       "    border: 1px solid black;\n",
       "    border-collapse: collapse;\n",
       "  }\n",
       "  th, td {\n",
       "    padding: 5px;\n",
       "  }\n",
       "  th {\n",
       "    text-align: left;\n",
       "  }\n",
       "</style><div class='table-result-container'><table class='table-result'><thead style='background-color: white'><tr><th>athlete_id</th><th>name</th><th>region</th><th>team</th><th>affiliate</th><th>gender</th><th>age</th><th>height</th><th>weight</th><th>fran</th><th>helen</th><th>grace</th><th>filthy50</th><th>fgonebad</th><th>run400</th><th>run5k</th><th>candj</th><th>snatch</th><th>deadlift</th><th>backsq</th><th>pullups</th><th>eat</th><th>train</th><th>background</th><th>experience</th><th>schedule</th><th>howlong</th></tr></thead><tbody><tr><td>2554.0</td><td>Pj Ablang</td><td>South West</td><td>Double Edge</td><td>Double Edge CrossFit</td><td>Male</td><td>24.0</td><td>70.0</td><td>166.0</td><td>null</td><td>null</td><td>null</td><td>null</td><td>null</td><td>null</td><td>null</td><td>220.0</td><td>null</td><td>400.0</td><td>305.0</td><td>null</td><td>null</td><td>I workout mostly at a CrossFit Affiliate|I have a coach who determines my programming|I record my workouts|</td><td>I played youth or high school level sports|I regularly play recreational sports|</td><td>I began CrossFit with a coach (e.g. at an affiliate)|I have attended one or more specialty courses|I have had a life changing experience due to CrossFit|</td><td>I do multiple workouts in a day 2x a week|</td><td>4+ years|</td></tr><tr><td>3517.0</td><td>Derek Abdella</td><td>null</td><td>null</td><td>null</td><td>Male</td><td>42.0</td><td>70.0</td><td>190.0</td><td>null</td><td>null</td><td>null</td><td>null</td><td>0.0</td><td>null</td><td>null</td><td>null</td><td>null</td><td>null</td><td>null</td><td>null</td><td>null</td><td>I have a coach who determines my programming|I record my workouts|</td><td>I played youth or high school level sports|</td><td>I began CrossFit with a coach (e.g. at an affiliate)|I have attended one or more specialty courses|I have had a life changing experience due to CrossFit|</td><td>I do multiple workouts in a day 2x a week|</td><td>4+ years|</td></tr><tr><td>4691.0</td><td>null</td><td>null</td><td>null</td><td>null</td><td>null</td><td>null</td><td>null</td><td>null</td><td>null</td><td>null</td><td>null</td><td>null</td><td>null</td><td>null</td><td>null</td><td>null</td><td>null</td><td>null</td><td>null</td><td>null</td><td>null</td><td>null</td><td>null</td><td>null</td><td>null</td><td>null</td></tr><tr><td>5164.0</td><td>Abo Brandon</td><td>Southern California</td><td>LAX CrossFit</td><td>LAX CrossFit</td><td>Male</td><td>40.0</td><td>67.0</td><td>null</td><td>211.0</td><td>645.0</td><td>300.0</td><td>null</td><td>196.0</td><td>null</td><td>null</td><td>245.0</td><td>200.0</td><td>375.0</td><td>325.0</td><td>25.0</td><td>I eat 1-3 full cheat meals per week|</td><td>I workout mostly at a CrossFit Affiliate|I have a coach who determines my programming|I record my workouts|</td><td>I played youth or high school level sports|</td><td>I began CrossFit by trying it alone (without a coach)|I began CrossFit with a coach (e.g. at an affiliate)|I have completed the CrossFit Level 1 certificate course|I have attended one or more specialty courses|I have had a life changing experience due to CrossFit|I train other people|</td><td>I usually only do 1 workout a day|</td><td>4+ years|</td></tr><tr><td>5286.0</td><td>Bryce Abbey</td><td>null</td><td>null</td><td>null</td><td>Male</td><td>32.0</td><td>65.0</td><td>149.0</td><td>206.0</td><td>465.0</td><td>null</td><td>1053.0</td><td>null</td><td>null</td><td>1081.0</td><td>205.0</td><td>150.0</td><td>null</td><td>325.0</td><td>50.0</td><td>I eat quality foods but don't measure the amount|</td><td>I workout mostly at a CrossFit Affiliate|I incorporate CrossFit.com workouts|I write my own programming|I record my workouts|</td><td>I played college sports|</td><td>I began CrossFit by trying it alone (without a coach)|I have completed the CrossFit Level 1 certificate course|I train other people|</td><td>I usually only do 1 workout a day|I strictly schedule my rest days|</td><td>1-2 years|</td></tr></tbody></table></div>"
      ]
     },
     "metadata": {
      "application/vnd.databricks.v1+output": {
       "addedWidgets": {},
       "aggData": [],
       "aggError": "",
       "aggOverflow": false,
       "aggSchema": [],
       "aggSeriesLimitReached": false,
       "aggType": "",
       "arguments": {},
       "columnCustomDisplayInfos": {},
       "data": [
        [
         2554.0,
         "Pj Ablang",
         "South West",
         "Double Edge",
         "Double Edge CrossFit",
         "Male",
         24.0,
         70.0,
         166.0,
         null,
         null,
         null,
         null,
         null,
         null,
         null,
         220.0,
         null,
         400.0,
         305.0,
         null,
         null,
         "I workout mostly at a CrossFit Affiliate|I have a coach who determines my programming|I record my workouts|",
         "I played youth or high school level sports|I regularly play recreational sports|",
         "I began CrossFit with a coach (e.g. at an affiliate)|I have attended one or more specialty courses|I have had a life changing experience due to CrossFit|",
         "I do multiple workouts in a day 2x a week|",
         "4+ years|"
        ],
        [
         3517.0,
         "Derek Abdella",
         null,
         null,
         null,
         "Male",
         42.0,
         70.0,
         190.0,
         null,
         null,
         null,
         null,
         0.0,
         null,
         null,
         null,
         null,
         null,
         null,
         null,
         null,
         "I have a coach who determines my programming|I record my workouts|",
         "I played youth or high school level sports|",
         "I began CrossFit with a coach (e.g. at an affiliate)|I have attended one or more specialty courses|I have had a life changing experience due to CrossFit|",
         "I do multiple workouts in a day 2x a week|",
         "4+ years|"
        ],
        [
         4691.0,
         null,
         null,
         null,
         null,
         null,
         null,
         null,
         null,
         null,
         null,
         null,
         null,
         null,
         null,
         null,
         null,
         null,
         null,
         null,
         null,
         null,
         null,
         null,
         null,
         null,
         null
        ],
        [
         5164.0,
         "Abo Brandon",
         "Southern California",
         "LAX CrossFit",
         "LAX CrossFit",
         "Male",
         40.0,
         67.0,
         null,
         211.0,
         645.0,
         300.0,
         null,
         196.0,
         null,
         null,
         245.0,
         200.0,
         375.0,
         325.0,
         25.0,
         "I eat 1-3 full cheat meals per week|",
         "I workout mostly at a CrossFit Affiliate|I have a coach who determines my programming|I record my workouts|",
         "I played youth or high school level sports|",
         "I began CrossFit by trying it alone (without a coach)|I began CrossFit with a coach (e.g. at an affiliate)|I have completed the CrossFit Level 1 certificate course|I have attended one or more specialty courses|I have had a life changing experience due to CrossFit|I train other people|",
         "I usually only do 1 workout a day|",
         "4+ years|"
        ],
        [
         5286.0,
         "Bryce Abbey",
         null,
         null,
         null,
         "Male",
         32.0,
         65.0,
         149.0,
         206.0,
         465.0,
         null,
         1053.0,
         null,
         null,
         1081.0,
         205.0,
         150.0,
         null,
         325.0,
         50.0,
         "I eat quality foods but don't measure the amount|",
         "I workout mostly at a CrossFit Affiliate|I incorporate CrossFit.com workouts|I write my own programming|I record my workouts|",
         "I played college sports|",
         "I began CrossFit by trying it alone (without a coach)|I have completed the CrossFit Level 1 certificate course|I train other people|",
         "I usually only do 1 workout a day|I strictly schedule my rest days|",
         "1-2 years|"
        ]
       ],
       "datasetInfos": [],
       "dbfsResultPath": null,
       "isJsonSchema": true,
       "metadata": {},
       "overflow": false,
       "plotOptions": {
        "customPlotOptions": {},
        "displayType": "table",
        "pivotAggregation": null,
        "pivotColumns": null,
        "xColumns": null,
        "yColumns": null
       },
       "removedWidgets": [],
       "schema": [
        {
         "metadata": "{}",
         "name": "athlete_id",
         "type": "\"double\""
        },
        {
         "metadata": "{}",
         "name": "name",
         "type": "\"string\""
        },
        {
         "metadata": "{}",
         "name": "region",
         "type": "\"string\""
        },
        {
         "metadata": "{}",
         "name": "team",
         "type": "\"string\""
        },
        {
         "metadata": "{}",
         "name": "affiliate",
         "type": "\"string\""
        },
        {
         "metadata": "{}",
         "name": "gender",
         "type": "\"string\""
        },
        {
         "metadata": "{}",
         "name": "age",
         "type": "\"double\""
        },
        {
         "metadata": "{}",
         "name": "height",
         "type": "\"double\""
        },
        {
         "metadata": "{}",
         "name": "weight",
         "type": "\"double\""
        },
        {
         "metadata": "{}",
         "name": "fran",
         "type": "\"double\""
        },
        {
         "metadata": "{}",
         "name": "helen",
         "type": "\"double\""
        },
        {
         "metadata": "{}",
         "name": "grace",
         "type": "\"double\""
        },
        {
         "metadata": "{}",
         "name": "filthy50",
         "type": "\"double\""
        },
        {
         "metadata": "{}",
         "name": "fgonebad",
         "type": "\"double\""
        },
        {
         "metadata": "{}",
         "name": "run400",
         "type": "\"double\""
        },
        {
         "metadata": "{}",
         "name": "run5k",
         "type": "\"double\""
        },
        {
         "metadata": "{}",
         "name": "candj",
         "type": "\"double\""
        },
        {
         "metadata": "{}",
         "name": "snatch",
         "type": "\"double\""
        },
        {
         "metadata": "{}",
         "name": "deadlift",
         "type": "\"double\""
        },
        {
         "metadata": "{}",
         "name": "backsq",
         "type": "\"double\""
        },
        {
         "metadata": "{}",
         "name": "pullups",
         "type": "\"double\""
        },
        {
         "metadata": "{}",
         "name": "eat",
         "type": "\"string\""
        },
        {
         "metadata": "{}",
         "name": "train",
         "type": "\"string\""
        },
        {
         "metadata": "{}",
         "name": "background",
         "type": "\"string\""
        },
        {
         "metadata": "{}",
         "name": "experience",
         "type": "\"string\""
        },
        {
         "metadata": "{}",
         "name": "schedule",
         "type": "\"string\""
        },
        {
         "metadata": "{}",
         "name": "howlong",
         "type": "\"string\""
        }
       ],
       "type": "table"
      }
     },
     "output_type": "display_data"
    }
   ],
   "source": [
    "# Read data\n",
    "df = spark.read.csv(\"dbfs:/Volumes/workspace/default/mlops/athletes.csv\", header=True, inferSchema=True)\n",
    "display(df.limit(5))"
   ]
  },
  {
   "cell_type": "code",
   "execution_count": 0,
   "metadata": {
    "application/vnd.databricks.v1+cell": {
     "cellMetadata": {
      "byteLimit": 2048000,
      "rowLimit": 10000
     },
     "inputWidgets": {},
     "nuid": "d54647d8-9413-400e-a23f-ae144a7da78f",
     "showTitle": false,
     "tableResultSettingsMap": {},
     "title": ""
    }
   },
   "outputs": [
    {
     "output_type": "display_data",
     "data": {
      "text/html": [
       "<style scoped>\n",
       "  .table-result-container {\n",
       "    max-height: 300px;\n",
       "    overflow: auto;\n",
       "  }\n",
       "  table, th, td {\n",
       "    border: 1px solid black;\n",
       "    border-collapse: collapse;\n",
       "  }\n",
       "  th, td {\n",
       "    padding: 5px;\n",
       "  }\n",
       "  th {\n",
       "    text-align: left;\n",
       "  }\n",
       "</style><div class='table-result-container'><table class='table-result'><thead style='background-color: white'><tr><th>athlete_id</th><th>age</th><th>height</th><th>weight</th><th>candj</th><th>snatch</th><th>deadlift</th></tr></thead><tbody><tr><td>6491.0</td><td>37.0</td><td>73.0</td><td>230.0</td><td>265.0</td><td>200.0</td><td>435.0</td></tr><tr><td>6610.0</td><td>21.0</td><td>72.0</td><td>175.0</td><td>0.0</td><td>0.0</td><td>0.0</td></tr><tr><td>7463.0</td><td>30.0</td><td>72.0</td><td>175.0</td><td>0.0</td><td>0.0</td><td>0.0</td></tr><tr><td>8242.0</td><td>40.0</td><td>68.0</td><td>177.0</td><td>225.0</td><td>185.0</td><td>365.0</td></tr><tr><td>11416.0</td><td>31.0</td><td>65.0</td><td>150.0</td><td>290.0</td><td>225.0</td><td>465.0</td></tr></tbody></table></div>"
      ]
     },
     "metadata": {
      "application/vnd.databricks.v1+output": {
       "addedWidgets": {},
       "aggData": [],
       "aggError": "",
       "aggOverflow": false,
       "aggSchema": [],
       "aggSeriesLimitReached": false,
       "aggType": "",
       "arguments": {},
       "columnCustomDisplayInfos": {},
       "data": [
        [
         6491.0,
         37.0,
         73.0,
         230.0,
         265.0,
         200.0,
         435.0
        ],
        [
         6610.0,
         21.0,
         72.0,
         175.0,
         0.0,
         0.0,
         0.0
        ],
        [
         7463.0,
         30.0,
         72.0,
         175.0,
         0.0,
         0.0,
         0.0
        ],
        [
         8242.0,
         40.0,
         68.0,
         177.0,
         225.0,
         185.0,
         365.0
        ],
        [
         11416.0,
         31.0,
         65.0,
         150.0,
         290.0,
         225.0,
         465.0
        ]
       ],
       "datasetInfos": [],
       "dbfsResultPath": null,
       "isJsonSchema": true,
       "metadata": {},
       "overflow": false,
       "plotOptions": {
        "customPlotOptions": {},
        "displayType": "table",
        "pivotAggregation": null,
        "pivotColumns": null,
        "xColumns": null,
        "yColumns": null
       },
       "removedWidgets": [],
       "schema": [
        {
         "metadata": "{}",
         "name": "athlete_id",
         "type": "\"double\""
        },
        {
         "metadata": "{}",
         "name": "age",
         "type": "\"double\""
        },
        {
         "metadata": "{}",
         "name": "height",
         "type": "\"double\""
        },
        {
         "metadata": "{}",
         "name": "weight",
         "type": "\"double\""
        },
        {
         "metadata": "{}",
         "name": "candj",
         "type": "\"double\""
        },
        {
         "metadata": "{}",
         "name": "snatch",
         "type": "\"double\""
        },
        {
         "metadata": "{}",
         "name": "deadlift",
         "type": "\"double\""
        }
       ],
       "type": "table"
      }
     },
     "output_type": "display_data"
    }
   ],
   "source": [
    "# Keep only rows with necessary features + target\n",
    "df_clean = df.dropna(subset=[\"athlete_id\", \"age\", \"height\", \"weight\", \"candj\", \"snatch\", \"deadlift\"])\n",
    "df_clean = df_clean.select(\"athlete_id\", \"age\", \"height\", \"weight\", \"candj\", \"snatch\", \"deadlift\")\n",
    "display(df_clean.limit(5))"
   ]
  },
  {
   "cell_type": "code",
   "execution_count": 0,
   "metadata": {
    "application/vnd.databricks.v1+cell": {
     "cellMetadata": {
      "byteLimit": 2048000,
      "rowLimit": 10000
     },
     "inputWidgets": {},
     "nuid": "8a6968d8-371a-4367-ae1c-d5a60341f6a5",
     "showTitle": false,
     "tableResultSettingsMap": {},
     "title": ""
    }
   },
   "outputs": [
    {
     "output_type": "execute_result",
     "data": {
      "text/plain": [
       "<FeatureTable: name='workspace.mlops.athletes_features_v2', table_id='1b42b366-fd88-4633-9e0d-c8a174d888af', description='Athletes v2: includes derived power_metric', primary_keys=['athlete_id'], partition_columns=[], features=['athlete_id', 'age', 'height', 'weight', 'power_metric'], creation_timestamp=1752637212561, online_stores=[], notebook_producers=[], job_producers=[], table_data_sources=[], path_data_sources=[], custom_data_sources=[], timestamp_keys=[], tags={}>"
      ]
     },
     "execution_count": 3,
     "metadata": {},
     "output_type": "execute_result"
    }
   ],
   "source": [
    "# Create Feature Store Tables (v1 & v2)\n",
    "from databricks.feature_store import FeatureStoreClient\n",
    "from pyspark.sql.functions import col\n",
    "\n",
    "fs = FeatureStoreClient()\n",
    "\n",
    "# Create the database if it does not exist\n",
    "spark.sql(\"CREATE DATABASE IF NOT EXISTS workspace.mlops\")\n",
    "\n",
    "# Feature version 1: raw features\n",
    "features_v1 = df_clean.select(\"athlete_id\", \"age\", \"height\", \"weight\", \"candj\", \"snatch\")\n",
    "fs.create_table(\n",
    "    name=\"workspace.mlops.athletes_features_v1\",\n",
    "    primary_keys=[\"athlete_id\"],\n",
    "    df=features_v1,\n",
    "    description=\"Athletes v1: raw features\"\n",
    ")\n",
    "\n",
    "# Feature version 2: adds derived 'power_metric'\n",
    "features_v2 = features_v1.withColumn(\"power_metric\", col(\"candj\") + col(\"snatch\")) \\\n",
    "                         .select(\"athlete_id\", \"age\", \"height\", \"weight\", \"power_metric\")\n",
    "fs.create_table(\n",
    "    name=\"workspace.mlops.athletes_features_v2\",\n",
    "    primary_keys=[\"athlete_id\"],\n",
    "    df=features_v2,\n",
    "    description=\"Athletes v2: includes derived power_metric\"\n",
    ")"
   ]
  },
  {
   "cell_type": "code",
   "execution_count": 0,
   "metadata": {
    "application/vnd.databricks.v1+cell": {
     "cellMetadata": {
      "byteLimit": 2048000,
      "rowLimit": 10000
     },
     "inputWidgets": {},
     "nuid": "557f1232-be2f-40f5-9cd6-c83c4e046870",
     "showTitle": false,
     "tableResultSettingsMap": {},
     "title": ""
    }
   },
   "outputs": [],
   "source": [
    "from databricks.feature_store import FeatureStoreClient\n",
    "from sklearn.ensemble import RandomForestRegressor\n",
    "from sklearn.model_selection import train_test_split\n",
    "from sklearn.pipeline import Pipeline\n",
    "from sklearn.impute import SimpleImputer\n",
    "from sklearn.preprocessing import StandardScaler\n",
    "from sklearn.metrics import mean_squared_error, r2_score\n",
    "from codecarbon import EmissionsTracker\n",
    "import mlflow\n",
    "import pandas as pd"
   ]
  },
  {
   "cell_type": "code",
   "execution_count": 0,
   "metadata": {
    "application/vnd.databricks.v1+cell": {
     "cellMetadata": {
      "byteLimit": 2048000,
      "rowLimit": 10000
     },
     "inputWidgets": {},
     "nuid": "78a64e21-bba3-420e-b7a9-b071e77ed70e",
     "showTitle": false,
     "tableResultSettingsMap": {},
     "title": ""
    }
   },
   "outputs": [],
   "source": [
    "# Define Training Function\n",
    "def train_model(version: str, n_estimators: int, max_depth: int):\n",
    "    fs = FeatureStoreClient()\n",
    "    table_name = f\"workspace.mlops.athletes_features_{version}\"\n",
    "    \n",
    "    # Read features from Feature Store\n",
    "    features_df = fs.read_table(table_name).toPandas()\n",
    "    \n",
    "    # Read target values\n",
    "    raw_df = spark.read.csv(\"dbfs:/Volumes/workspace/default/mlops/athletes.csv\", header=True, inferSchema=True)\n",
    "    target_df = raw_df.select(\"athlete_id\", \"deadlift\").dropna().toPandas()\n",
    "    \n",
    "    # Join features with target\n",
    "    data = pd.merge(features_df, target_df, on=\"athlete_id\")\n",
    "    X = data.drop(columns=[\"athlete_id\", \"deadlift\"])\n",
    "    y = data[\"deadlift\"]\n",
    "\n",
    "    # Train-test split\n",
    "    X_train, X_test, y_train, y_test = train_test_split(X, y, test_size=0.2, random_state=42)\n",
    "\n",
    "    # Build ML pipeline\n",
    "    pipeline = Pipeline([\n",
    "        (\"imputer\", SimpleImputer(strategy=\"mean\")),\n",
    "        (\"scaler\", StandardScaler()),\n",
    "        (\"model\", RandomForestRegressor(n_estimators=n_estimators, max_depth=max_depth, random_state=42))\n",
    "    ])\n",
    "\n",
    "    # Start emissions tracking\n",
    "    tracker = EmissionsTracker()\n",
    "    tracker.start()\n",
    "\n",
    "    with mlflow.start_run(run_name=f\"{version}_n{n_estimators}_d{max_depth}\"):\n",
    "        pipeline.fit(X_train, y_train)\n",
    "        preds = pipeline.predict(X_test)\n",
    "\n",
    "        rmse = mean_squared_error(y_test, preds, squared=False)\n",
    "        r2 = r2_score(y_test, preds)\n",
    "        emissions = tracker.stop()\n",
    "\n",
    "        # Log to MLflow\n",
    "        mlflow.log_param(\"feature_version\", version)\n",
    "        mlflow.log_param(\"n_estimators\", n_estimators)\n",
    "        mlflow.log_param(\"max_depth\", max_depth)\n",
    "        mlflow.log_metric(\"rmse\", rmse)\n",
    "        mlflow.log_metric(\"r2\", r2)\n",
    "        mlflow.log_metric(\"emissions_kg\", emissions)\n",
    "        mlflow.sklearn.log_model(pipeline, \"model\")\n",
    "\n",
    "        print(f\"✅ v{version} | n={n_estimators} d={max_depth} | RMSE={rmse:.2f} | R2={r2:.2f} | CO2={emissions:.4f} kg\")"
   ]
  },
  {
   "cell_type": "code",
   "execution_count": 0,
   "metadata": {
    "application/vnd.databricks.v1+cell": {
     "cellMetadata": {
      "byteLimit": 2048000,
      "rowLimit": 10000
     },
     "inputWidgets": {},
     "nuid": "81be4985-f232-47f8-8e98-c213268cc0ba",
     "showTitle": false,
     "tableResultSettingsMap": {},
     "title": ""
    }
   },
   "outputs": [
    {
     "output_type": "stream",
     "name": "stderr",
     "output_type": "stream",
     "text": [
      "[codecarbon WARNING @ 03:50:52] Multiple instances of codecarbon are allowed to run at the same time.\n[codecarbon INFO @ 03:50:52] [setup] RAM Tracking...\n[codecarbon INFO @ 03:50:52] [setup] CPU Tracking...\n[codecarbon WARNING @ 03:50:53] No CPU tracking mode found. Falling back on estimation based on TDP for CPU. \n Linux OS detected: Please ensure RAPL files exist at /sys/class/powercap/intel-rapl/subsystem to measure CPU\n\n[codecarbon INFO @ 03:50:53] CPU Model on constant consumption mode: Intel(R) Xeon(R) Platinum 8375C CPU @ 2.90GHz\n[codecarbon WARNING @ 03:50:53] No CPU tracking mode found. Falling back on CPU load mode.\n[codecarbon INFO @ 03:50:53] [setup] GPU Tracking...\n[codecarbon INFO @ 03:50:53] No GPU found.\n[codecarbon INFO @ 03:50:53] The below tracking methods have been set up:\n                RAM Tracking Method: RAM power estimation model\n                CPU Tracking Method: cpu_load\n                GPU Tracking Method: Unspecified\n            \n[codecarbon INFO @ 03:50:53] >>> Tracker's metadata:\n[codecarbon INFO @ 03:50:53]   Platform system: Linux-5.15.0-1072-aws-x86_64-with-glibc2.35\n[codecarbon INFO @ 03:50:53]   Python version: 3.11.10\n[codecarbon INFO @ 03:50:53]   CodeCarbon version: 3.0.4\n[codecarbon INFO @ 03:50:53]   Available RAM : 15.334 GB\n[codecarbon INFO @ 03:50:53]   CPU count: 2 thread(s) in 1 physical CPU(s)\n[codecarbon INFO @ 03:50:53]   CPU model: Intel(R) Xeon(R) Platinum 8375C CPU @ 2.90GHz\n[codecarbon INFO @ 03:50:53]   GPU count: None\n[codecarbon INFO @ 03:50:53]   GPU model: None\n[codecarbon INFO @ 03:50:53] Emissions data (if any) will be saved to file /Workspace/Users/sohammandal@uchicago.edu/emissions.csv\n[codecarbon INFO @ 03:50:59] Energy consumed for RAM : 0.000016 kWh. RAM Power : 10.0 W\n[codecarbon INFO @ 03:50:59] Delta energy consumed for CPU with cpu_load : 0.000234 kWh, power : 147.560576745 W\n[codecarbon INFO @ 03:50:59] Energy consumed for All CPU : 0.000234 kWh\n[codecarbon INFO @ 03:50:59] 0.000250 kWh of electricity used since the beginning.\n2025/07/16 03:51:00 WARNING mlflow.models.model: `artifact_path` is deprecated. Please use `name` instead.\n\uD83D\uDD17 View Logged Model at: https://dbc-a91f8bda-7833.cloud.databricks.com/ml/experiments/1633180533230334/models/m-007e77bba3ae479ba03e04f4d71a1011?o=4238603580845169\n\u001B[31m2025/07/16 03:51:03 WARNING mlflow.models.model: Model logged without a signature and input example. Please set `input_example` parameter when logging the model to auto infer the model signature.\u001B[0m\n"
     ]
    },
    {
     "output_type": "stream",
     "name": "stdout",
     "output_type": "stream",
     "text": [
      "✅ vv1 | n=100 d=5 | RMSE=45177.14 | R2=0.56 | CO2=0.0000 kg\n"
     ]
    },
    {
     "output_type": "stream",
     "name": "stderr",
     "output_type": "stream",
     "text": [
      "[codecarbon WARNING @ 03:51:09] Multiple instances of codecarbon are allowed to run at the same time.\n[codecarbon INFO @ 03:51:09] [setup] RAM Tracking...\n[codecarbon INFO @ 03:51:09] [setup] CPU Tracking...\n[codecarbon WARNING @ 03:51:10] No CPU tracking mode found. Falling back on estimation based on TDP for CPU. \n Linux OS detected: Please ensure RAPL files exist at /sys/class/powercap/intel-rapl/subsystem to measure CPU\n\n[codecarbon INFO @ 03:51:10] CPU Model on constant consumption mode: Intel(R) Xeon(R) Platinum 8375C CPU @ 2.90GHz\n[codecarbon WARNING @ 03:51:10] No CPU tracking mode found. Falling back on CPU load mode.\n[codecarbon INFO @ 03:51:10] [setup] GPU Tracking...\n[codecarbon INFO @ 03:51:10] No GPU found.\n[codecarbon INFO @ 03:51:10] The below tracking methods have been set up:\n                RAM Tracking Method: RAM power estimation model\n                CPU Tracking Method: cpu_load\n                GPU Tracking Method: Unspecified\n            \n[codecarbon INFO @ 03:51:10] >>> Tracker's metadata:\n[codecarbon INFO @ 03:51:10]   Platform system: Linux-5.15.0-1072-aws-x86_64-with-glibc2.35\n[codecarbon INFO @ 03:51:10]   Python version: 3.11.10\n[codecarbon INFO @ 03:51:10]   CodeCarbon version: 3.0.4\n[codecarbon INFO @ 03:51:10]   Available RAM : 15.334 GB\n[codecarbon INFO @ 03:51:10]   CPU count: 2 thread(s) in 1 physical CPU(s)\n[codecarbon INFO @ 03:51:10]   CPU model: Intel(R) Xeon(R) Platinum 8375C CPU @ 2.90GHz\n[codecarbon INFO @ 03:51:10]   GPU count: None\n[codecarbon INFO @ 03:51:10]   GPU model: None\n[codecarbon INFO @ 03:51:10] Emissions data (if any) will be saved to file /Workspace/Users/sohammandal@uchicago.edu/emissions.csv\n[codecarbon INFO @ 03:51:26] Energy consumed for RAM : 0.000043 kWh. RAM Power : 10.0 W\n[codecarbon INFO @ 03:51:26] Delta energy consumed for CPU with cpu_load : 0.000914 kWh, power : 212.00532139200004 W\n[codecarbon INFO @ 03:51:26] Energy consumed for All CPU : 0.000914 kWh\n[codecarbon INFO @ 03:51:26] 0.000957 kWh of electricity used since the beginning.\n[codecarbon INFO @ 03:51:27] Energy consumed for RAM : 0.000046 kWh. RAM Power : 10.0 W\n[codecarbon INFO @ 03:51:28] Delta energy consumed for CPU with cpu_load : 0.000052 kWh, power : 164.96906547 W\n[codecarbon INFO @ 03:51:28] Energy consumed for All CPU : 0.000965 kWh\n[codecarbon INFO @ 03:51:28] 0.001012 kWh of electricity used since the beginning.\n2025/07/16 03:51:29 WARNING mlflow.models.model: `artifact_path` is deprecated. Please use `name` instead.\n\uD83D\uDD17 View Logged Model at: https://dbc-a91f8bda-7833.cloud.databricks.com/ml/experiments/1633180533230334/models/m-4004635af6ec4df8b7cf98d4bb195d33?o=4238603580845169\n\u001B[31m2025/07/16 03:51:32 WARNING mlflow.models.model: Model logged without a signature and input example. Please set `input_example` parameter when logging the model to auto infer the model signature.\u001B[0m\n"
     ]
    },
    {
     "output_type": "stream",
     "name": "stdout",
     "output_type": "stream",
     "text": [
      "✅ vv1 | n=200 d=10 | RMSE=48877.99 | R2=0.48 | CO2=0.0001 kg\n"
     ]
    },
    {
     "output_type": "stream",
     "name": "stderr",
     "output_type": "stream",
     "text": [
      "[codecarbon WARNING @ 03:51:39] Multiple instances of codecarbon are allowed to run at the same time.\n[codecarbon INFO @ 03:51:39] [setup] RAM Tracking...\n[codecarbon INFO @ 03:51:39] [setup] CPU Tracking...\n[codecarbon WARNING @ 03:51:40] No CPU tracking mode found. Falling back on estimation based on TDP for CPU. \n Linux OS detected: Please ensure RAPL files exist at /sys/class/powercap/intel-rapl/subsystem to measure CPU\n\n[codecarbon INFO @ 03:51:40] CPU Model on constant consumption mode: Intel(R) Xeon(R) Platinum 8375C CPU @ 2.90GHz\n[codecarbon WARNING @ 03:51:40] No CPU tracking mode found. Falling back on CPU load mode.\n[codecarbon INFO @ 03:51:40] [setup] GPU Tracking...\n[codecarbon INFO @ 03:51:40] No GPU found.\n[codecarbon INFO @ 03:51:40] The below tracking methods have been set up:\n                RAM Tracking Method: RAM power estimation model\n                CPU Tracking Method: cpu_load\n                GPU Tracking Method: Unspecified\n            \n[codecarbon INFO @ 03:51:40] >>> Tracker's metadata:\n[codecarbon INFO @ 03:51:40]   Platform system: Linux-5.15.0-1072-aws-x86_64-with-glibc2.35\n[codecarbon INFO @ 03:51:40]   Python version: 3.11.10\n[codecarbon INFO @ 03:51:40]   CodeCarbon version: 3.0.4\n[codecarbon INFO @ 03:51:40]   Available RAM : 15.334 GB\n[codecarbon INFO @ 03:51:40]   CPU count: 2 thread(s) in 1 physical CPU(s)\n[codecarbon INFO @ 03:51:40]   CPU model: Intel(R) Xeon(R) Platinum 8375C CPU @ 2.90GHz\n[codecarbon INFO @ 03:51:40]   GPU count: None\n[codecarbon INFO @ 03:51:40]   GPU model: None\n[codecarbon INFO @ 03:51:40] Emissions data (if any) will be saved to file /Workspace/Users/sohammandal@uchicago.edu/emissions.csv\n[codecarbon INFO @ 03:51:45] Energy consumed for RAM : 0.000013 kWh. RAM Power : 10.0 W\n[codecarbon INFO @ 03:51:46] Delta energy consumed for CPU with cpu_load : 0.000203 kWh, power : 158.94081109200008 W\n[codecarbon INFO @ 03:51:46] Energy consumed for All CPU : 0.000203 kWh\n[codecarbon INFO @ 03:51:46] 0.000216 kWh of electricity used since the beginning.\n2025/07/16 03:51:46 WARNING mlflow.models.model: `artifact_path` is deprecated. Please use `name` instead.\n\uD83D\uDD17 View Logged Model at: https://dbc-a91f8bda-7833.cloud.databricks.com/ml/experiments/1633180533230334/models/m-a53302dbf4ed491eab5af5528623c5ab?o=4238603580845169\n\u001B[31m2025/07/16 03:51:50 WARNING mlflow.models.model: Model logged without a signature and input example. Please set `input_example` parameter when logging the model to auto infer the model signature.\u001B[0m\n"
     ]
    },
    {
     "output_type": "stream",
     "name": "stdout",
     "output_type": "stream",
     "text": [
      "✅ vv2 | n=100 d=5 | RMSE=71165.05 | R2=-0.10 | CO2=0.0000 kg\n"
     ]
    },
    {
     "output_type": "stream",
     "name": "stderr",
     "output_type": "stream",
     "text": [
      "[codecarbon WARNING @ 03:51:56] Multiple instances of codecarbon are allowed to run at the same time.\n[codecarbon INFO @ 03:51:56] [setup] RAM Tracking...\n[codecarbon INFO @ 03:51:56] [setup] CPU Tracking...\n[codecarbon WARNING @ 03:51:57] No CPU tracking mode found. Falling back on estimation based on TDP for CPU. \n Linux OS detected: Please ensure RAPL files exist at /sys/class/powercap/intel-rapl/subsystem to measure CPU\n\n[codecarbon INFO @ 03:51:57] CPU Model on constant consumption mode: Intel(R) Xeon(R) Platinum 8375C CPU @ 2.90GHz\n[codecarbon WARNING @ 03:51:57] No CPU tracking mode found. Falling back on CPU load mode.\n[codecarbon INFO @ 03:51:57] [setup] GPU Tracking...\n[codecarbon INFO @ 03:51:57] No GPU found.\n[codecarbon INFO @ 03:51:57] The below tracking methods have been set up:\n                RAM Tracking Method: RAM power estimation model\n                CPU Tracking Method: cpu_load\n                GPU Tracking Method: Unspecified\n            \n[codecarbon INFO @ 03:51:57] >>> Tracker's metadata:\n[codecarbon INFO @ 03:51:57]   Platform system: Linux-5.15.0-1072-aws-x86_64-with-glibc2.35\n[codecarbon INFO @ 03:51:57]   Python version: 3.11.10\n[codecarbon INFO @ 03:51:57]   CodeCarbon version: 3.0.4\n[codecarbon INFO @ 03:51:57]   Available RAM : 15.334 GB\n[codecarbon INFO @ 03:51:57]   CPU count: 2 thread(s) in 1 physical CPU(s)\n[codecarbon INFO @ 03:51:57]   CPU model: Intel(R) Xeon(R) Platinum 8375C CPU @ 2.90GHz\n[codecarbon INFO @ 03:51:57]   GPU count: None\n[codecarbon INFO @ 03:51:57]   GPU model: None\n[codecarbon INFO @ 03:51:58] Emissions data (if any) will be saved to file /Workspace/Users/sohammandal@uchicago.edu/emissions.csv\n[codecarbon INFO @ 03:52:12] Energy consumed for RAM : 0.000041 kWh. RAM Power : 10.0 W\n[codecarbon INFO @ 03:52:13] Delta energy consumed for CPU with cpu_load : 0.000765 kWh, power : 186.65717642399994 W\n[codecarbon INFO @ 03:52:13] Energy consumed for All CPU : 0.000765 kWh\n[codecarbon INFO @ 03:52:13] 0.000806 kWh of electricity used since the beginning.\n2025/07/16 03:52:13 WARNING mlflow.models.model: `artifact_path` is deprecated. Please use `name` instead.\n\uD83D\uDD17 View Logged Model at: https://dbc-a91f8bda-7833.cloud.databricks.com/ml/experiments/1633180533230334/models/m-62cfbcad5cd94bd99d1d28254fc446a9?o=4238603580845169\n\u001B[31m2025/07/16 03:52:17 WARNING mlflow.models.model: Model logged without a signature and input example. Please set `input_example` parameter when logging the model to auto infer the model signature.\u001B[0m\n"
     ]
    },
    {
     "output_type": "stream",
     "name": "stdout",
     "output_type": "stream",
     "text": [
      "✅ vv2 | n=200 d=10 | RMSE=71368.59 | R2=-0.11 | CO2=0.0001 kg\n"
     ]
    }
   ],
   "source": [
    "# Run All 4 Experiments\n",
    "configs = [\n",
    "    (\"v1\", 100, 5),\n",
    "    (\"v1\", 200, 10),\n",
    "    (\"v2\", 100, 5),\n",
    "    (\"v2\", 200, 10)\n",
    "]\n",
    "\n",
    "for version, n, d in configs:\n",
    "    train_model(version, n, d)"
   ]
  }
 ],
 "metadata": {
  "application/vnd.databricks.v1+notebook": {
   "computePreferences": null,
   "dashboards": [],
   "environmentMetadata": {
    "base_environment": "",
    "environment_version": "2"
   },
   "inputWidgetPreferences": null,
   "language": "python",
   "notebookMetadata": {
    "pythonIndentUnit": 4
   },
   "notebookName": "MLOps HW2",
   "widgets": {}
  },
  "language_info": {
   "name": "python"
  }
 },
 "nbformat": 4,
 "nbformat_minor": 0
}