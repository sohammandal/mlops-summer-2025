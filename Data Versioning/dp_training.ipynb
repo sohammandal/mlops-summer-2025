{
  "cells": [
    {
      "cell_type": "code",
      "execution_count": 1,
      "metadata": {
        "id": "3lyLuTvVgU3F"
      },
      "outputs": [],
      "source": [
        "!pip install -q tensorflow==2.15.0 tensorflow-privacy==0.9.0"
      ]
    },
    {
      "cell_type": "code",
      "execution_count": 8,
      "metadata": {
        "id": "PqRphYXGgRLR"
      },
      "outputs": [],
      "source": [
        "import numpy as np\n",
        "import pandas as pd\n",
        "\n",
        "import tensorflow as tf\n",
        "from tensorflow.keras import layers, Sequential\n",
        "import tensorflow_privacy as tfp\n",
        "from tensorflow_privacy.privacy.analysis.compute_dp_sgd_privacy_lib import compute_dp_sgd_privacy\n",
        "\n",
        "from sklearn.model_selection import train_test_split\n",
        "from sklearn.preprocessing import StandardScaler"
      ]
    },
    {
      "cell_type": "code",
      "execution_count": 4,
      "metadata": {
        "colab": {
          "base_uri": "https://localhost:8080/"
        },
        "id": "broSdliWgV9O",
        "outputId": "d819b448-c85a-454c-e07f-a45a7917252a"
      },
      "outputs": [
        {
          "name": "stdout",
          "output_type": "stream",
          "text": [
            "Mounted at /content/drive\n"
          ]
        }
      ],
      "source": [
        "from google.colab import drive\n",
        "drive.mount('/content/drive')"
      ]
    },
    {
      "cell_type": "code",
      "execution_count": 12,
      "metadata": {
        "colab": {
          "base_uri": "https://localhost:8080/"
        },
        "id": "-WJRGtewiPgL",
        "outputId": "ff943ff1-bdc5-4469-e224-0ebd0e83f658"
      },
      "outputs": [
        {
          "name": "stdout",
          "output_type": "stream",
          "text": [
            "Train: (24000, 3),  Test: (6003, 3)\n"
          ]
        }
      ],
      "source": [
        "train_path = '/content/drive/My Drive/Colab Datasets/v2_train.csv'\n",
        "test_path = '/content/drive/My Drive/Colab Datasets/v2_test.csv'\n",
        "\n",
        "# Hyper-params\n",
        "EPOCHS            = 30\n",
        "BATCH_SIZE        = 32\n",
        "NUM_MICROBATCHES  = 32\n",
        "LEARNING_RATE     = 0.15\n",
        "L2_NORM_CLIP      = 1.0\n",
        "NOISE_MULTIPLIER  = 1.1\n",
        "\n",
        "train_df = pd.read_csv(train_path)\n",
        "test_df = pd.read_csv(test_path)\n",
        "\n",
        "FEATURES = ['age', 'height', 'weight']\n",
        "TARGET   = 'total_lift'\n",
        "\n",
        "X_train = train_df[FEATURES].values.astype(np.float32)\n",
        "y_train = train_df[TARGET ].values.astype(np.float32)\n",
        "\n",
        "X_test  = test_df [FEATURES].values.astype(np.float32)\n",
        "y_test  = test_df [TARGET ].values.astype(np.float32)\n",
        "\n",
        "num_train_samples = X_train.shape[0]\n",
        "remainder = num_train_samples % BATCH_SIZE\n",
        "if remainder != 0:\n",
        "    X_train = X_train[:-remainder]\n",
        "    y_train = y_train[:-remainder]\n",
        "\n",
        "\n",
        "scaler = StandardScaler()\n",
        "X_train = scaler.fit_transform(X_train)\n",
        "X_test  = scaler.transform(X_test)\n",
        "\n",
        "print(f\"Train: {X_train.shape},  Test: {X_test.shape}\")"
      ]
    },
    {
      "cell_type": "code",
      "execution_count": 9,
      "metadata": {
        "id": "Fl853sWQiXFK"
      },
      "outputs": [],
      "source": [
        "model = Sequential([\n",
        "    layers.Input(shape=(X_train.shape[1],)),\n",
        "    layers.Dense(64, activation='relu'),\n",
        "    layers.Dense(1)\n",
        "])"
      ]
    },
    {
      "cell_type": "code",
      "execution_count": 10,
      "metadata": {
        "colab": {
          "base_uri": "https://localhost:8080/"
        },
        "id": "o88O-r4GkLYt",
        "outputId": "ed023b45-f035-4193-d496-f9ffcdf523e9"
      },
      "outputs": [
        {
          "name": "stdout",
          "output_type": "stream",
          "text": [
            "Model: \"sequential\"\n",
            "_________________________________________________________________\n",
            " Layer (type)                Output Shape              Param #   \n",
            "=================================================================\n",
            " dense (Dense)               (None, 64)                256       \n",
            "                                                                 \n",
            " dense_1 (Dense)             (None, 1)                 65        \n",
            "                                                                 \n",
            "=================================================================\n",
            "Total params: 321 (1.25 KB)\n",
            "Trainable params: 321 (1.25 KB)\n",
            "Non-trainable params: 0 (0.00 Byte)\n",
            "_________________________________________________________________\n"
          ]
        }
      ],
      "source": [
        "assert BATCH_SIZE % NUM_MICROBATCHES == 0, \"batch_size % num_microbatches must be 0\"\n",
        "\n",
        "# Differential-privacy SGD optimizer\n",
        "DPKerasSGDOptimizer = tfp.privacy.optimizers.dp_optimizer_keras.DPKerasSGDOptimizer\n",
        "optimizer = DPKerasSGDOptimizer(\n",
        "    l2_norm_clip=L2_NORM_CLIP,\n",
        "    noise_multiplier=NOISE_MULTIPLIER,\n",
        "    num_microbatches=NUM_MICROBATCHES,\n",
        "    learning_rate=LEARNING_RATE\n",
        ")\n",
        "\n",
        "loss_fn = tf.keras.losses.MeanSquaredError(\n",
        "    reduction=tf.losses.Reduction.NONE\n",
        ")\n",
        "\n",
        "model.compile(optimizer=optimizer, loss=loss_fn, metrics=['mae'])\n",
        "model.summary()"
      ]
    },
    {
      "cell_type": "code",
      "execution_count": 13,
      "metadata": {
        "colab": {
          "base_uri": "https://localhost:8080/"
        },
        "id": "L3GUNWuEkObH",
        "outputId": "d988a031-5ff3-4369-e60c-7f1fa857bb2a"
      },
      "outputs": [
        {
          "name": "stdout",
          "output_type": "stream",
          "text": [
            "Epoch 1/30\n",
            "675/675 - 3s - loss: 44108.0625 - mae: 162.9318 - val_loss: 44089.3750 - val_mae: 164.1151 - 3s/epoch - 4ms/step\n",
            "Epoch 2/30\n",
            "675/675 - 4s - loss: 44923.4648 - mae: 162.4322 - val_loss: 45118.0781 - val_mae: 164.6207 - 4s/epoch - 6ms/step\n",
            "Epoch 3/30\n",
            "675/675 - 3s - loss: 45431.5391 - mae: 162.5769 - val_loss: 45089.1367 - val_mae: 164.3876 - 3s/epoch - 4ms/step\n",
            "Epoch 4/30\n",
            "675/675 - 3s - loss: 45238.3555 - mae: 162.3970 - val_loss: 45410.4648 - val_mae: 164.8640 - 3s/epoch - 4ms/step\n",
            "Epoch 5/30\n",
            "675/675 - 3s - loss: 45262.0547 - mae: 162.4331 - val_loss: 45755.0586 - val_mae: 164.9971 - 3s/epoch - 4ms/step\n",
            "Epoch 6/30\n",
            "675/675 - 3s - loss: 45449.3594 - mae: 162.4882 - val_loss: 44994.3281 - val_mae: 164.0223 - 3s/epoch - 5ms/step\n",
            "Epoch 7/30\n",
            "675/675 - 4s - loss: 45198.7227 - mae: 162.1665 - val_loss: 45308.4062 - val_mae: 164.3114 - 4s/epoch - 6ms/step\n",
            "Epoch 8/30\n",
            "675/675 - 3s - loss: 45266.2852 - mae: 162.1854 - val_loss: 45828.4805 - val_mae: 164.6889 - 3s/epoch - 4ms/step\n",
            "Epoch 9/30\n",
            "675/675 - 3s - loss: 45496.6953 - mae: 162.1523 - val_loss: 44695.2695 - val_mae: 163.2662 - 3s/epoch - 4ms/step\n",
            "Epoch 10/30\n",
            "675/675 - 3s - loss: 44739.9961 - mae: 161.5682 - val_loss: 44877.8086 - val_mae: 163.6054 - 3s/epoch - 4ms/step\n",
            "Epoch 11/30\n",
            "675/675 - 4s - loss: 44771.4297 - mae: 161.4493 - val_loss: 44658.1367 - val_mae: 163.3184 - 4s/epoch - 6ms/step\n",
            "Epoch 12/30\n",
            "675/675 - 3s - loss: 44858.9102 - mae: 161.3811 - val_loss: 44681.9219 - val_mae: 163.2659 - 3s/epoch - 4ms/step\n",
            "Epoch 13/30\n",
            "675/675 - 3s - loss: 44706.2773 - mae: 161.1452 - val_loss: 44255.4141 - val_mae: 162.5560 - 3s/epoch - 4ms/step\n",
            "Epoch 14/30\n",
            "675/675 - 3s - loss: 44413.9492 - mae: 160.7543 - val_loss: 44217.5078 - val_mae: 162.4395 - 3s/epoch - 4ms/step\n",
            "Epoch 15/30\n",
            "675/675 - 3s - loss: 44239.2344 - mae: 160.4223 - val_loss: 43948.5352 - val_mae: 161.8181 - 3s/epoch - 4ms/step\n",
            "Epoch 16/30\n",
            "675/675 - 5s - loss: 43892.7188 - mae: 159.7916 - val_loss: 43348.1484 - val_mae: 160.7229 - 5s/epoch - 7ms/step\n",
            "Epoch 17/30\n",
            "675/675 - 4s - loss: 43649.7656 - mae: 159.2763 - val_loss: 42944.7930 - val_mae: 159.9459 - 4s/epoch - 6ms/step\n",
            "Epoch 18/30\n",
            "675/675 - 3s - loss: 43264.3242 - mae: 158.6316 - val_loss: 43065.0938 - val_mae: 159.8278 - 3s/epoch - 4ms/step\n",
            "Epoch 19/30\n",
            "675/675 - 3s - loss: 43100.4258 - mae: 158.0981 - val_loss: 42295.8984 - val_mae: 158.8649 - 3s/epoch - 4ms/step\n",
            "Epoch 20/30\n",
            "675/675 - 4s - loss: 42386.1289 - mae: 157.2662 - val_loss: 41884.9531 - val_mae: 157.7591 - 4s/epoch - 6ms/step\n",
            "Epoch 21/30\n",
            "675/675 - 3s - loss: 42393.1055 - mae: 156.7597 - val_loss: 41674.1094 - val_mae: 157.2352 - 3s/epoch - 4ms/step\n",
            "Epoch 22/30\n",
            "675/675 - 3s - loss: 41887.6250 - mae: 156.1491 - val_loss: 41722.9180 - val_mae: 157.0092 - 3s/epoch - 4ms/step\n",
            "Epoch 23/30\n",
            "675/675 - 3s - loss: 41785.2031 - mae: 155.6685 - val_loss: 40940.3516 - val_mae: 155.7855 - 3s/epoch - 4ms/step\n",
            "Epoch 24/30\n",
            "675/675 - 4s - loss: 41347.7852 - mae: 155.0296 - val_loss: 40812.3008 - val_mae: 155.3336 - 4s/epoch - 6ms/step\n",
            "Epoch 25/30\n",
            "675/675 - 3s - loss: 41082.7969 - mae: 154.5712 - val_loss: 40434.7461 - val_mae: 154.7098 - 3s/epoch - 5ms/step\n",
            "Epoch 26/30\n",
            "675/675 - 4s - loss: 40958.6445 - mae: 154.0974 - val_loss: 40580.6992 - val_mae: 154.5855 - 4s/epoch - 6ms/step\n",
            "Epoch 27/30\n",
            "675/675 - 4s - loss: 40642.5977 - mae: 153.6226 - val_loss: 39805.7812 - val_mae: 153.5365 - 4s/epoch - 6ms/step\n",
            "Epoch 28/30\n",
            "675/675 - 4s - loss: 40533.7812 - mae: 153.3950 - val_loss: 40020.6484 - val_mae: 153.5504 - 4s/epoch - 6ms/step\n",
            "Epoch 29/30\n",
            "675/675 - 3s - loss: 40423.8516 - mae: 153.1729 - val_loss: 39978.6133 - val_mae: 153.4013 - 3s/epoch - 4ms/step\n",
            "Epoch 30/30\n",
            "675/675 - 5s - loss: 40252.8477 - mae: 152.8676 - val_loss: 39693.1094 - val_mae: 152.9045 - 5s/epoch - 8ms/step\n"
          ]
        }
      ],
      "source": [
        "history = model.fit(\n",
        "    X_train, y_train,\n",
        "    epochs=EPOCHS,\n",
        "    validation_split=0.1,\n",
        "    batch_size=BATCH_SIZE,\n",
        "    verbose=2\n",
        ")"
      ]
    },
    {
      "cell_type": "code",
      "execution_count": 16,
      "metadata": {
        "colab": {
          "base_uri": "https://localhost:8080/"
        },
        "id": "VjymtbpukRYo",
        "outputId": "36cf9e41-4519-4264-c2de-541e591edd26"
      },
      "outputs": [
        {
          "name": "stderr",
          "output_type": "stream",
          "text": [
            "WARNING:absl:`compute_dp_sgd_privacy` is deprecated. It does not account for doubling of sensitivity with microbatching, and assumes Poisson subsampling, which is rarely used in practice. Please use `compute_dp_sgd_privacy_statement`, which provides appropriate context for the guarantee. To compute epsilon under different assumptions than those in `compute_dp_sgd_privacy_statement`, call the `dp_accounting` libraries directly.\n"
          ]
        },
        {
          "name": "stdout",
          "output_type": "stream",
          "text": [
            "DP guarantee: ε = 0.97  (δ = 1e-5)\n"
          ]
        }
      ],
      "source": [
        "epsilon, _ = compute_dp_sgd_privacy(\n",
        "    n=len(X_train),\n",
        "    batch_size=BATCH_SIZE,\n",
        "    noise_multiplier=NOISE_MULTIPLIER,\n",
        "    epochs=EPOCHS,\n",
        "    delta=1e-5\n",
        ")\n",
        "\n",
        "print(f\"DP guarantee: ε = {epsilon:.2f}  (δ = 1e-5)\")"
      ]
    },
    {
      "cell_type": "code",
      "execution_count": 15,
      "metadata": {
        "colab": {
          "base_uri": "https://localhost:8080/"
        },
        "id": "j5q8YClWky3c",
        "outputId": "ccc42806-ff46-48f5-c1cf-c215a9f6e678"
      },
      "outputs": [
        {
          "name": "stdout",
          "output_type": "stream",
          "text": [
            "188/188 [==============================] - 1s 2ms/step\n",
            "MSE  : 40577.715\n",
            "R²   : 0.478\n"
          ]
        }
      ],
      "source": [
        "# Predictions\n",
        "y_pred = model.predict(X_test, batch_size=BATCH_SIZE).flatten()\n",
        "\n",
        "# MSE & R²\n",
        "mse = np.mean((y_pred - y_test) ** 2)\n",
        "r2  = 1.0 - np.sum((y_test - y_pred) ** 2) / np.sum((y_test - y_test.mean()) ** 2)\n",
        "\n",
        "print(f\"MSE  : {mse:.3f}\")\n",
        "print(f\"R²   : {r2:.3f}\")"
      ]
    }
  ],
  "metadata": {
    "colab": {
      "provenance": []
    },
    "kernelspec": {
      "display_name": "venv",
      "language": "python",
      "name": "python3"
    },
    "language_info": {
      "name": "python",
      "version": "3.11.12"
    }
  },
  "nbformat": 4,
  "nbformat_minor": 0
}
